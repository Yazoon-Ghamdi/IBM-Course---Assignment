{
 "cells": [
  {
   "cell_type": "markdown",
   "id": "317132df",
   "metadata": {},
   "source": [
    " ### Exercise 2 : **Data Science Tools and Ecosystem**"
   ]
  },
  {
   "cell_type": "markdown",
   "id": "88f4b7e9",
   "metadata": {},
   "source": [
    "### Exercise 3 : **introduction**\n",
    "\n",
    "**It's great to learn and become a professional in data science.**"
   ]
  },
  {
   "cell_type": "markdown",
   "id": "e4c7704a",
   "metadata": {},
   "source": [
    "### Exercise 4 : **Some of the popular languages that Data Scientists use are :**\n",
    "\n",
    "1. **Python**\n",
    "2. **R**\n",
    "3. **SQL**"
   ]
  },
  {
   "cell_type": "markdown",
   "id": "101cb166",
   "metadata": {},
   "source": [
    "### Exercise 5 : **Some of the commonly used libraries used by Data Scientists include :**\n",
    "\n",
    "1. **Pandas**\n",
    "2. **Numpy**\n",
    "3. **Seaborn**"
   ]
  },
  {
   "cell_type": "markdown",
   "id": "7bf4f3a5",
   "metadata": {},
   "source": [
    "## Exercise 6 : \n",
    "     | Data Science Tools        |\n",
    "|---------------------------|\n",
    "| Jupyter Notebook          |\n",
    "| RStudio                   |\n",
    "| Visual Studio Code (VS Code) |\n"
   ]
  },
  {
   "cell_type": "markdown",
   "id": "30895992",
   "metadata": {},
   "source": [
    "### Exercise 7 : **Below are a few examples of evaluating arithmetic expressions in Python.**\n",
    "\n",
    "\n"
   ]
  },
  {
   "cell_type": "code",
   "execution_count": 1,
   "id": "5cf5fa72",
   "metadata": {},
   "outputs": [
    {
     "data": {
      "text/plain": [
       "5.0"
      ]
     },
     "execution_count": 1,
     "metadata": {},
     "output_type": "execute_result"
    }
   ],
   "source": [
    "# Example 1: Addition\n",
    "3 + 5\n",
    "\n",
    "# Example 2: Multiplication\n",
    "4 * 7\n",
    "\n",
    "# Example 3: Division\n",
    "10 / 2\n"
   ]
  },
  {
   "cell_type": "markdown",
   "id": "ee8c2844",
   "metadata": {},
   "source": [
    "## Exercise 8"
   ]
  },
  {
   "cell_type": "code",
   "execution_count": 2,
   "id": "f19b50a0",
   "metadata": {},
   "outputs": [
    {
     "data": {
      "text/plain": [
       "17"
      ]
     },
     "execution_count": 2,
     "metadata": {},
     "output_type": "execute_result"
    }
   ],
   "source": [
    "# This is a simple arithmetic expression to multiply then add integers\n",
    "(3 * 4) + 5\n"
   ]
  },
  {
   "cell_type": "markdown",
   "id": "7aee9767",
   "metadata": {},
   "source": [
    "## Exercise 9 \n"
   ]
  },
  {
   "cell_type": "code",
   "execution_count": 3,
   "id": "098fc69f",
   "metadata": {},
   "outputs": [
    {
     "data": {
      "text/plain": [
       "3.3333333333333335"
      ]
     },
     "execution_count": 3,
     "metadata": {},
     "output_type": "execute_result"
    }
   ],
   "source": [
    "# This will convert 200 minutes to hours by dividing by 60\n",
    "200 / 60\n"
   ]
  },
  {
   "cell_type": "markdown",
   "id": "9db90863",
   "metadata": {},
   "source": [
    "## Exercise 10\n",
    "\n",
    "**Objectives:**\n",
    "\n",
    "- List popular languages for Data Science  \n",
    "- Identify commonly used Data Science libraries and tools  \n",
    "- Create and run basic arithmetic expressions in Python  \n",
    "- Understand how to convert minutes to hours using Python  \n",
    "- Demonstrate how to format Markdown cells with tables and lists"
   ]
  },
  {
   "cell_type": "markdown",
   "id": "ba47a1e2",
   "metadata": {},
   "source": [
    "## Exercise 11 \n",
    "\n",
    "## Author  \n",
    "Yazan Ibrahim bin Hamdan Al-Ghamdi\n"
   ]
  }
 ],
 "metadata": {
  "kernelspec": {
   "display_name": "base",
   "language": "python",
   "name": "python3"
  },
  "language_info": {
   "codemirror_mode": {
    "name": "ipython",
    "version": 3
   },
   "file_extension": ".py",
   "mimetype": "text/x-python",
   "name": "python",
   "nbconvert_exporter": "python",
   "pygments_lexer": "ipython3",
   "version": "3.11.5"
  }
 },
 "nbformat": 4,
 "nbformat_minor": 5
}
